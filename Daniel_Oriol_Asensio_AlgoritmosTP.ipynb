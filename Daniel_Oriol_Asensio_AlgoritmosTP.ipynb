{
  "nbformat": 4,
  "nbformat_minor": 0,
  "metadata": {
    "colab": {
      "provenance": []
    },
    "kernelspec": {
      "name": "python3",
      "display_name": "Python 3"
    }
  },
  "cells": [
    {
      "cell_type": "markdown",
      "metadata": {
        "id": "hVbXYX-RfPWh"
      },
      "source": [
        "# Algoritmos de optimización - TRABAJO PRÁCTICO<br>\n",
        "Nombre y Apellidos: Daniel Oriol Asensio  <br>\n",
        "Link: https://colab.research.google.com/drive/1BXfv5qAtPalKB3Sy6AKnQG0Cd5z3V1yg#scrollTo=hVbXYX-RfPWh<br>\n",
        "Url: https://github.com/doriola/03MIAR---Algoritmos-de-Optimizacion_2023.git<br>\n",
        "Problema:\n",
        ">3. Combinar cifras y operaciones\n",
        "\n",
        "Descripción del problema:<br>\n",
        "\n",
        "• El problema consiste en analizar el siguiente problema y diseñar un algoritmo que lo resuelva.<br>\n",
        "• Disponemos de las 9 cifras del 1 al 9 (excluimos el cero) y de los 4 signos básicos de las operaciones fundamentales: suma(+), resta(-), multiplicación(*) y división(/)<br>\n",
        "• Debemos combinarlos alternativamente sin repetir ninguno de ellos para obtener una cantidad dada.<br> \n",
        "Un ejemplo sería para obtener el 4:<br>\n",
        "4+2-6/3*1 = 4\n",
        "\n",
        "                                "
      ]
    },
    {
      "cell_type": "code",
      "metadata": {
        "id": "AiskKkzZfy4e"
      },
      "source": [
        "import numpy as np\n",
        "from itertools import *\n",
        "import math\n",
        "import random"
      ],
      "execution_count": 23,
      "outputs": []
    },
    {
      "cell_type": "code",
      "source": [
        "# Genero una lista que contiene en cada elemento una lista con 5 números \n",
        "# correspondientes a las permutaciones posibles a tener en cuenta en la \n",
        "# solución.\n",
        "num_comb=5\n",
        "permutaciones=[]\n",
        "num_string=\"123456789\"\n",
        "for elemento in permutations(num_string, num_comb):\n",
        "    permutaciones.append(elemento)"
      ],
      "metadata": {
        "id": "EKlGIdJzXaLE"
      },
      "execution_count": 2,
      "outputs": []
    },
    {
      "cell_type": "code",
      "source": [
        "len(permutaciones)"
      ],
      "metadata": {
        "colab": {
          "base_uri": "https://localhost:8080/"
        },
        "id": "_korUKeCbDr9",
        "outputId": "81c9e0e3-965d-45c7-b01d-fb14f180714c"
      },
      "execution_count": 3,
      "outputs": [
        {
          "output_type": "execute_result",
          "data": {
            "text/plain": [
              "15120"
            ]
          },
          "metadata": {},
          "execution_count": 3
        }
      ]
    },
    {
      "cell_type": "markdown",
      "source": [
        "Hay 15120 posibles combinaciones en cuanto a los números se refiere"
      ],
      "metadata": {
        "id": "WR8RR-CQcBi8"
      }
    },
    {
      "cell_type": "code",
      "source": [
        "# Vemos el aspecto del segundo elemento de la lista\n",
        "permutaciones[2]"
      ],
      "metadata": {
        "colab": {
          "base_uri": "https://localhost:8080/"
        },
        "id": "7hTw5KkFdBIc",
        "outputId": "2a335e88-2a4d-4b03-8743-da6c9f7e6c1e"
      },
      "execution_count": 4,
      "outputs": [
        {
          "output_type": "execute_result",
          "data": {
            "text/plain": [
              "('1', '2', '3', '4', '7')"
            ]
          },
          "metadata": {},
          "execution_count": 4
        }
      ]
    },
    {
      "cell_type": "code",
      "source": [
        "# Ahora genero una lista que contiene en cada elemento una lista con los \n",
        "# 4 simbolos operadores correspondientes a las 24 permutaciones posibles a tener\n",
        "#  en cuenta en la solución.\n",
        "oper=[]\n",
        "oper_string=\"+-*/\"\n",
        "for elemento in permutations(oper_string, len(oper_string)):\n",
        "    oper.append(elemento)"
      ],
      "metadata": {
        "id": "neH5hy8qbLF9"
      },
      "execution_count": 5,
      "outputs": []
    },
    {
      "cell_type": "code",
      "source": [
        "len(oper)"
      ],
      "metadata": {
        "colab": {
          "base_uri": "https://localhost:8080/"
        },
        "id": "oxxI3FUacyMs",
        "outputId": "f4195ff9-f3e8-47fc-8d5b-5990605f38f8"
      },
      "execution_count": 6,
      "outputs": [
        {
          "output_type": "execute_result",
          "data": {
            "text/plain": [
              "24"
            ]
          },
          "metadata": {},
          "execution_count": 6
        }
      ]
    },
    {
      "cell_type": "markdown",
      "source": [
        "Efectivamente queda comprobado que hay 24 combinaciones diferentes"
      ],
      "metadata": {
        "id": "GfTOA4rVdJQ4"
      }
    },
    {
      "cell_type": "code",
      "source": [
        "# Vemos el aspecto del segundo elemento de la lista\n",
        "oper[11]"
      ],
      "metadata": {
        "colab": {
          "base_uri": "https://localhost:8080/"
        },
        "id": "A_ctAwhtc11o",
        "outputId": "831133c2-c17d-44e3-dc52-2c60ff0df824"
      },
      "execution_count": 7,
      "outputs": [
        {
          "output_type": "execute_result",
          "data": {
            "text/plain": [
              "('-', '/', '*', '+')"
            ]
          },
          "metadata": {},
          "execution_count": 7
        }
      ]
    },
    {
      "cell_type": "code",
      "source": [
        "# Ahora creamos strings con cada elemento de permutaciones y con cada uno de \n",
        "# estos los 24 posibilidades de la posicion de los operadores, es decir los \n",
        "# elementos de la lista oper\n",
        "# Creamos una lista de soluciones final que contendrá esos 9 caracteres \n",
        "# extraídos de dicha combinación:\n",
        "solucion_final=[]\n",
        "for perlist in permutaciones:\n",
        "  for oplist in oper:\n",
        "    una_sol=''\n",
        "    for per,op in zip(perlist,oplist):\n",
        "      una_sol=una_sol+str(per)+op\n",
        "    # Añadimos el último elemento\n",
        "    una_sol=una_sol + str(perlist[4])\n",
        "    solucion_final.append(una_sol)\n"
      ],
      "metadata": {
        "id": "sSkUsLKzdWx5"
      },
      "execution_count": 8,
      "outputs": []
    },
    {
      "cell_type": "code",
      "source": [
        "len(solucion_final)"
      ],
      "metadata": {
        "colab": {
          "base_uri": "https://localhost:8080/"
        },
        "id": "8o1NwVwqkjtm",
        "outputId": "0e89b03a-3bdb-4843-e3c8-1b37cf126bfa"
      },
      "execution_count": 9,
      "outputs": [
        {
          "output_type": "execute_result",
          "data": {
            "text/plain": [
              "362880"
            ]
          },
          "metadata": {},
          "execution_count": 9
        }
      ]
    },
    {
      "cell_type": "markdown",
      "source": [
        "Ahora que ya tenemos todas las soluciones, utilizamos eval para encontrar el máximo y el mínimo"
      ],
      "metadata": {
        "id": "-F5IX3K2k3Cf"
      }
    },
    {
      "cell_type": "code",
      "source": [
        "vmax,vmin,index=0,0,0\n",
        "# imax=0\n",
        "# imin=0\n",
        "for exp in solucion_final:\n",
        "  if eval(exp)>vmax:\n",
        "    imax=index\n",
        "    vmax=eval(exp)\n",
        "  elif eval(exp)<vmin:\n",
        "    imin=index\n",
        "    vmin=eval(exp)\n",
        "  index+=1"
      ],
      "metadata": {
        "id": "YTURi0zWi6wb"
      },
      "execution_count": 10,
      "outputs": []
    },
    {
      "cell_type": "markdown",
      "source": [
        "• Debe analizarse el problema para encontrar todos los valores enteros posibles planteando las\n",
        "siguientes cuestiones:\n",
        "- ¿Qué valor máximo y mínimo se pueden obtener según las condiciones del problema?\n",
        "- ¿Es posible encontrar todos los valores enteros posibles entre dicho mínimo y máximo ?<br>\n",
        "• Nota: Es posible usar la función de python “eval” para evaluar una expresión:\n",
        "....\n",
        "\n",
        "(*) La respuesta es obligatoria"
      ],
      "metadata": {
        "id": "it_M24hUP68_"
      }
    },
    {
      "cell_type": "code",
      "source": [
        "# Escribimos el valor de la expresión de solución final con el valor máximo\n",
        "print(solucion_final[imax])"
      ],
      "metadata": {
        "colab": {
          "base_uri": "https://localhost:8080/"
        },
        "id": "IsWe3zQP4L5q",
        "outputId": "b58840d3-6945-4090-aba3-ce58a6204be5"
      },
      "execution_count": 11,
      "outputs": [
        {
          "output_type": "stream",
          "name": "stdout",
          "text": [
            "7-1/6+8*9\n"
          ]
        }
      ]
    },
    {
      "cell_type": "code",
      "source": [
        "# Cuyo valor entero máximo es:\n",
        "print(math.trunc(vmax))"
      ],
      "metadata": {
        "colab": {
          "base_uri": "https://localhost:8080/"
        },
        "id": "uiraHC2wnKLe",
        "outputId": "5fff1b26-1adf-4001-d5c8-bcceee5b56c1"
      },
      "execution_count": 12,
      "outputs": [
        {
          "output_type": "stream",
          "name": "stdout",
          "text": [
            "78\n"
          ]
        }
      ]
    },
    {
      "cell_type": "code",
      "source": [
        "# Escribimos el valor de la expresión de solución final con el valor mínimo\n",
        "print(solucion_final[imin])"
      ],
      "metadata": {
        "colab": {
          "base_uri": "https://localhost:8080/"
        },
        "id": "1rj_5oQC56HN",
        "outputId": "7c0b19e4-58bb-4fc9-ef60-9efeb1085446"
      },
      "execution_count": 13,
      "outputs": [
        {
          "output_type": "stream",
          "name": "stdout",
          "text": [
            "1+2/7-8*9\n"
          ]
        }
      ]
    },
    {
      "cell_type": "code",
      "source": [
        "# Cuyo valor entero mínimo es:\n",
        "print(math.trunc(vmin))"
      ],
      "metadata": {
        "colab": {
          "base_uri": "https://localhost:8080/"
        },
        "id": "SPyXKnuLjt0L",
        "outputId": "7f443a97-aedb-4163-fe0f-3632a09b497b"
      },
      "execution_count": 14,
      "outputs": [
        {
          "output_type": "stream",
          "name": "stdout",
          "text": [
            "-70\n"
          ]
        }
      ]
    },
    {
      "cell_type": "code",
      "source": [
        "# Escribimos la lista de resultados donde se evalua en cada elemento el valor de la expresión\n",
        "results = [math.trunc(eval(x)) for x in solucion_final]\n",
        "# Guardamos los valores únicos eliminando los repetidos en la lista set_resultados\n",
        "set_results=set(results)"
      ],
      "metadata": {
        "id": "rPUi35Ghpcjm"
      },
      "execution_count": 15,
      "outputs": []
    },
    {
      "cell_type": "code",
      "source": [
        "# Vemos si quedan valores entre el máximo y el mínimo que no han podido resolverse mediante alguna expresión de la solucion final\n",
        "num_elem = -(-70) + 1 + 78 # los negativos, el cero y los positivos\n",
        "num_elem_sol_final= len(set_results)\n",
        "print(num_elem, num_elem_sol_final)"
      ],
      "metadata": {
        "colab": {
          "base_uri": "https://localhost:8080/"
        },
        "id": "T_Oh0XW561as",
        "outputId": "ac7a6f66-499f-47cd-8d90-6f85a8327d06"
      },
      "execution_count": 16,
      "outputs": [
        {
          "output_type": "stream",
          "name": "stdout",
          "text": [
            "149 149\n"
          ]
        }
      ]
    },
    {
      "cell_type": "markdown",
      "source": [
        "Esto significa, por lo tanto, que en este caso, podemos abarcar el rango de enteros entre -70 y 78 mediante una expresión descrita en el enunciado."
      ],
      "metadata": {
        "id": "WdbFV_0Y7r4c"
      }
    },
    {
      "cell_type": "code",
      "source": [
        "# Ahora de todas las expresiones vamos a seleccionar las 149 que abarcan el \n",
        "# resultado [-70,78] y las vamos a guardar el una lista de tuplas que llamaremos \n",
        "# tup_list:\n",
        "tup_list=[]\n",
        "v_list=[]\n",
        "for valor, expresion in zip(results, solucion_final):\n",
        "  if valor not in v_list:\n",
        "    v_list.append(valor)\n",
        "    tup_list.append((valor,expresion))"
      ],
      "metadata": {
        "id": "3ITkhn0aD5nX"
      },
      "execution_count": 17,
      "outputs": []
    },
    {
      "cell_type": "code",
      "source": [
        "# Volvemos a comprobar que esán los 149 valores con las 149 expresiones\n",
        "len(tup_list)"
      ],
      "metadata": {
        "colab": {
          "base_uri": "https://localhost:8080/"
        },
        "id": "q3Kh67zeFhpe",
        "outputId": "0803b139-0b74-45a7-947f-3673dc9f88db"
      },
      "execution_count": 18,
      "outputs": [
        {
          "output_type": "execute_result",
          "data": {
            "text/plain": [
              "149"
            ]
          },
          "metadata": {},
          "execution_count": 18
        }
      ]
    },
    {
      "cell_type": "code",
      "source": [
        "# Comprobación, ejemplo: supongamos que nos piden que demos una expresion que nos de 59, por ejemplo:\n",
        "num_a_buscar=59\n",
        "i=0\n",
        "found= False\n",
        "while i<len(tup_list)-1 and not found:\n",
        "  if tup_list[i][0]==num_a_buscar:\n",
        "    expresion_a_devolver=tup_list[i][1]\n",
        "    found=True\n",
        "  else:\n",
        "    i+=1\n",
        "print(\"La expresión solución es \",expresion_a_devolver, \"= \", num_a_buscar)"
      ],
      "metadata": {
        "colab": {
          "base_uri": "https://localhost:8080/"
        },
        "id": "cLoHF4nWF3bH",
        "outputId": "34286001-494b-4994-ea12-2050c9744812"
      },
      "execution_count": 19,
      "outputs": [
        {
          "output_type": "stream",
          "name": "stdout",
          "text": [
            "La expresión solución es  1/2-4+7*9 =  59\n"
          ]
        }
      ]
    },
    {
      "cell_type": "markdown",
      "metadata": {
        "id": "3_-exlrTgLd-"
      },
      "source": [
        "(*)¿Cuantas posibilidades hay sin tener en cuenta las restricciones?<br>\n",
        "\n",
        "\n",
        "\n",
        "¿Cuantas posibilidades hay teniendo en cuenta todas las restricciones.\n",
        "\n",
        "\n"
      ]
    },
    {
      "cell_type": "markdown",
      "metadata": {
        "id": "WfCUqJyKhPcw"
      },
      "source": [
        "Si no hubiera habido restricciones, entiendo que se podrian repetir los números y los símbolos operadores por lo que entonces tendríamos 9^9*4^4 expresiones posibles para abarcar el rango de soluciones a evaluar.\n",
        "\n",
        "Con las restricciones descritas hay una variacion sin repetición seleccionando 5 elementos de 9 para cada combinación de simbolos operadores. En este caso son 15120 variaciones por 24 combinaciones de operaciones que hacen un total de 362880 expresiones.\n"
      ]
    },
    {
      "cell_type": "markdown",
      "metadata": {
        "id": "dzynfVJahHoY"
      },
      "source": [
        "Modelo para el espacio de soluciones<br>\n",
        "(*) ¿Cual es la estructura de datos que mejor se adapta al problema? Argumentalo.(Es posible que hayas elegido una al principio y veas la necesidad de cambiar, arguentalo)\n"
      ]
    },
    {
      "cell_type": "markdown",
      "metadata": {
        "id": "xFIJrOwKi2Ti"
      },
      "source": [
        "Mi estructura de datos que se adapta mejor al problema ha sido:\n",
        "- Una lista donde se han ido guardando strings con las expresiones extraidas de las diferentes combinaciones posibles (solucion_final)\n",
        "- Una cadena de carácteres o string para cada solución donde se iban añadiendo los caracteres combinando así: <br>\n",
        "'[entero1][símbolo1][entero2][símbolo2][entero3][símbolo3][entero4][símbolo4][entero5]'<br>\n",
        "Esta cadena se guardaba en una_sol y se añadía a la lista solucion_final para cada combinación. "
      ]
    },
    {
      "cell_type": "markdown",
      "metadata": {
        "id": "7Z9U2W7bi-XS"
      },
      "source": [
        "Según el modelo para el espacio de soluciones<br>\n",
        "(*)¿Cual es la función objetivo?\n",
        "\n",
        "(*)¿Es un problema de maximización o minimización?"
      ]
    },
    {
      "cell_type": "markdown",
      "metadata": {
        "id": "hBalWLM7j1_d"
      },
      "source": [
        "En este caso mi objetivo es encontrar todas las expresiones y ver si entre ellas y teniendo en cuenta de que hay un valor máximo y uno mínimo que puedo representar, existen expresiones para cada entero delimitado en dicho intervalo.\n",
        "En este caso, sí se cumple que hay, al menos una expresión para lograr dicho cometido.<br>\n",
        "Este problema, pues, no es de maximización ni de optimización ya que es un problema de búsqueda de las soluciones.<br>\n",
        "Sí habría sido de optimización, por ejemplo si nos hubieran pedido dentro de un intervalo (max,mín) encontrar las expresiones que definan dicho espacio. En dicho caso, no se trataría de optimizar como tal sino de encontrar la manera más elegante y de menos coste para encontrar dichas expresiones sin tener que recorrer todo el espacio de soluciones. En este caso, primero había que ver TODAS las soluciones."
      ]
    },
    {
      "cell_type": "markdown",
      "metadata": {
        "id": "rlnTYgY1j6I2"
      },
      "source": [
        "Diseña un algoritmo para resolver el problema por fuerza bruta"
      ]
    },
    {
      "cell_type": "markdown",
      "metadata": {
        "id": "70rDgxYXkC8r"
      },
      "source": [
        "Lo metemos todo en una función a la que se le meta un número (n), un número de cantidad de números a combinar (num_comb), una cadena de caracteres con los elementos de donde combinar (num_string) y por último un string con los operadores posibles (oper_string) y, si el número está dentro del intervalo de soluciones posibles, te devuelve una expresión que lo resuelve."
      ]
    },
    {
      "cell_type": "code",
      "metadata": {
        "id": "CJb5sQ0qkENy"
      },
      "source": [
        "def alg_expresion_numero(n,num_comb,num_string, oper_string):\n",
        "  # Genero una lista que contiene en cada elemento una lista con 5 números \n",
        "  # correspondientes a las permutaciones posibles a tener en cuenta en la \n",
        "  # solución.\n",
        "  permutaciones=[]\n",
        "\n",
        "  for elemento in permutations(num_string, num_comb):\n",
        "      permutaciones.append(elemento)\n",
        "\n",
        "  # Ahora genero una lista que contiene en cada elemento una lista con los \n",
        "  # 4 simbolos operadores correspondientes a las 24 permutaciones posibles a tener\n",
        "  #  en cuenta en la solución.\n",
        "  oper=[]\n",
        "\n",
        "  for elemento in permutations(oper_string, len(oper_string)):\n",
        "      oper.append(elemento)\n",
        "\n",
        "  # Ahora creamos strings con cada elemento de permutaciones y con cada uno de \n",
        "  # estos los 24 posibilidades de la posicion de los operadores, es decir los \n",
        "  # elementos de la lista oper\n",
        "  # Creamos una lista de soluciones final que contendrá esos 9 caracteres \n",
        "  # extraídos de dicha combinación:\n",
        "  solucion_final=[]\n",
        "  for perlist in permutaciones:\n",
        "    for oplist in oper:\n",
        "      una_sol=''\n",
        "      for per,op in zip(perlist,oplist):\n",
        "        una_sol=una_sol+str(per)+op\n",
        "      # Añadimos el último elemento\n",
        "      una_sol=una_sol + str(perlist[-1])\n",
        "      solucion_final.append(una_sol)\n",
        "\n",
        "  # Escribimos la lista de resultados donde se evalua en cada elemento el valor de la expresión\n",
        "  resultados = [int(math.trunc(eval(x))) for x in solucion_final]\n",
        "\n",
        "  # Guardamos los valores únicos eliminando los repetidos en la lista set_resultados\n",
        "  set_resultados=set(resultados)\n",
        "\n",
        "  # Ahora de todas las expresiones vamos a seleccionar las que abarcan el espacio\n",
        "  # de soluciones y las vamos a guardar el una lista de tuplas que llamaremos \n",
        "  # tup_list:\n",
        "  tup_list=[]\n",
        "  v_list=[]\n",
        "  for valor, expresion in zip(resultados, solucion_final):\n",
        "    if valor not in v_list:\n",
        "      v_list.append(valor)\n",
        "      tup_list.append((valor,expresion))\n",
        "\n",
        "  # Por último construimos el buscador para un número n de entrada la respuesta \n",
        "  # solución:\n",
        "  min_resul= min(resultados)\n",
        "  max_resul= max(resultados)\n",
        "  if n in list(range(min_resul, max_resul+1)):\n",
        "    found= False\n",
        "    i=0\n",
        "    while i<len(tup_list)-1 and not found:\n",
        "      if tup_list[i][0]==n:\n",
        "        expresion_a_devolver=tup_list[i][1]\n",
        "        found=True\n",
        "      else:\n",
        "        i+=1\n",
        "    expresion_return=\"La expresión solución es \" + expresion_a_devolver + \"= \" + str(n)\n",
        "  else:\n",
        "    expresion_return=\"El número a lograr mediante las condiciones especificadas en el \\\n",
        "    enunciado debe de estar entre \" + str(min_resul) + \"y \" + str(max_resul) + \"!!!\"\n",
        "  \n",
        "  return expresion_return\n"
      ],
      "execution_count": 20,
      "outputs": []
    },
    {
      "cell_type": "markdown",
      "metadata": {
        "id": "tgrnsC2nkFa8"
      },
      "source": [
        "Calcula la complejidad del algoritmo por fuerza bruta"
      ]
    },
    {
      "cell_type": "markdown",
      "metadata": {
        "id": "9eUd3xwckP68"
      },
      "source": [
        "Debido al triple for anidado al principio del algoritmo al crear la lista de soluciones final, la complejidad de este algoritmo sería n^3 pero debido a la función permutations de itertools la complejidad asciende a O(n.n!)."
      ]
    },
    {
      "cell_type": "markdown",
      "metadata": {
        "id": "txbrmLmskReM"
      },
      "source": [
        "(*)Diseña un algoritmo que mejore la complejidad del algortimo por fuerza bruta. Argumenta porque crees que mejora el algoritmo por fuerza bruta"
      ]
    },
    {
      "cell_type": "markdown",
      "metadata": {
        "id": "hLrVwt5QkZPD"
      },
      "source": [
        "No he encontrado uno que mejore la complejidad ya que sí o sí debo realizar todas las permutaciones para encontrar las soluciones y eso no cambia, siempre es O(n.n!)."
      ]
    },
    {
      "cell_type": "markdown",
      "metadata": {
        "id": "eGDB4K6uk1iN"
      },
      "source": [
        "(*)Calcula la complejidad del algoritmo "
      ]
    },
    {
      "cell_type": "markdown",
      "metadata": {
        "id": "NhpTh_BPk1ms"
      },
      "source": [
        "Por las condiciones del problema siempre es O(n.n!)"
      ]
    },
    {
      "cell_type": "markdown",
      "metadata": {
        "id": "3M6QjTsSkmYe"
      },
      "source": [
        "Según el problema (y tenga sentido), diseña un juego de datos de entrada aleatorios"
      ]
    },
    {
      "cell_type": "code",
      "source": [
        "# Generamos 5 numeros aleatorios entre el -70 y el 78 y los colocamos en una lista. \n",
        "rand_list=[]\n",
        "lower_bound = -70\n",
        "upper_bound = 78\n",
        "number_of_random_numbers = 5\n",
        "\n",
        "for i in range(number_of_random_numbers):\n",
        "    random_number = random.randint(lower_bound, upper_bound)\n",
        "    rand_list.append(random_number)\n"
      ],
      "metadata": {
        "id": "1auHJVitQHHS"
      },
      "execution_count": 28,
      "outputs": []
    },
    {
      "cell_type": "markdown",
      "metadata": {
        "id": "zy5ZROmjlGo1"
      },
      "source": [
        "Aplica el algoritmo al juego de datos generado"
      ]
    },
    {
      "cell_type": "code",
      "metadata": {
        "id": "Jkx8GeiYlUz1",
        "colab": {
          "base_uri": "https://localhost:8080/"
        },
        "outputId": "960883cc-2676-45bc-daf2-3c03720e62bd"
      },
      "source": [
        "# Aplicamos el algoritmo a los 5 valores encontrados aleatoriamente\n",
        "for rand_num in rand_list:\n",
        "  print(alg_expresion_numero(rand_num,5,'123456789', '+-*/'))\n"
      ],
      "execution_count": 29,
      "outputs": [
        {
          "output_type": "stream",
          "name": "stdout",
          "text": [
            "La expresión solución es 1/2-3*5+7= -7\n",
            "La expresión solución es 1/2-4*9+8= -27\n",
            "La expresión solución es 1-2/3+5*6= 30\n",
            "La expresión solución es 1/2-4+5*6= 26\n",
            "La expresión solución es 1+2/3-5*7= -33\n"
          ]
        }
      ]
    },
    {
      "cell_type": "markdown",
      "metadata": {
        "id": "eTFWUJQrtGcv"
      },
      "source": [
        "Enumera las referencias que has utilizado(si ha sido necesario) para llevar a cabo el trabajo"
      ]
    },
    {
      "cell_type": "markdown",
      "metadata": {
        "id": "YKQ_mRBttWsP"
      },
      "source": [
        "https://www.delftstack.com/es/howto/python/python-max-value-in-list/\n",
        "https://blog.finxter.com/how-to-convert-an-integer-list-to-a-string-list-in-python/\n",
        "https://www.w3schools.com/jsref/jsref_trunc.asp\n",
        "https://docs.python.org/es/3/library/itertools.html\n",
        "http://recursostic.educacion.es/descartes/web/materiales_didacticos/Combinatoria/variacionessin.htm#:~:text=%C2%BFQu%C3%A9%20son%3F,representa%20por%20Vm%2Cn.\n"
      ]
    },
    {
      "cell_type": "markdown",
      "metadata": {
        "id": "kAkDPUyRtYyH"
      },
      "source": [
        "Describe brevemente las lineas de como crees que es posible avanzar en el estudio del problema. Ten en cuenta incluso posibles variaciones del problema y/o variaciones al alza del tamaño"
      ]
    },
    {
      "cell_type": "markdown",
      "metadata": {
        "id": "IE0uZmo-tZu-"
      },
      "source": [
        "Aquí lo interesante sería poder crear un algoritmo que aceptase repeticiones tanto en los simbolos como en los números. Esto generaría un espacio de \"resultados\" mucho más amplio debido a una lista de soluciones final mucho mas numerosa y por tanto el tiempo de ejecución aumentaría. \n",
        "\n",
        "En este caso, tampoco sabemos si todos los números comprendidos en el intervalo máximi y mínimo estarían representados, por lo que también sería interesante para que dimensiones y combinaciones el problema tendría \"cobertura total\" de los números en el interior del intervalo."
      ]
    }
  ]
}